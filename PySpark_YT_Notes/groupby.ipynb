{
 "cells": [
  {
   "cell_type": "markdown",
   "metadata": {},
   "source": [
    "# Part 4: Learning PySpark Basics\n",
    "## The following will be covered:\n",
    "* Group By and Aggregate Functions"
   ]
  },
  {
   "cell_type": "code",
   "execution_count": 2,
   "metadata": {},
   "outputs": [],
   "source": [
    "from pyspark.sql import SparkSession\n",
    "spark = SparkSession.builder.appName('Aggs').getOrCreate()"
   ]
  },
  {
   "cell_type": "code",
   "execution_count": 3,
   "metadata": {},
   "outputs": [],
   "source": [
    "df_pyspark = spark.read.csv('pysparktest.csv',header=True,inferSchema=True)"
   ]
  },
  {
   "cell_type": "code",
   "execution_count": 4,
   "metadata": {},
   "outputs": [
    {
     "name": "stdout",
     "output_type": "stream",
     "text": [
      "+------+----+------------+----------+------+\n",
      "|  Name| Age|  Department|Experience|Salary|\n",
      "+------+----+------------+----------+------+\n",
      "|Jayden|  23|Data Science|         5| 80000|\n",
      "| Shawn|  27|   Insurance|         7| 65000|\n",
      "|   Bob|null|   Insurance|         4| 12345|\n",
      "|Jeremy|  40|Data Science|         8| 69000|\n",
      "|Joseph|  23|     Medical|         4|  null|\n",
      "|  Mary|  24|        null|    100000|  null|\n",
      "|  null|null|        null|      null| 43000|\n",
      "|  null|  34|     Medical|         2| 40000|\n",
      "|  null| 121|        null|     90000|  null|\n",
      "+------+----+------------+----------+------+\n",
      "\n"
     ]
    }
   ],
   "source": [
    "df_pyspark.show()"
   ]
  },
  {
   "cell_type": "code",
   "execution_count": 6,
   "metadata": {},
   "outputs": [
    {
     "name": "stdout",
     "output_type": "stream",
     "text": [
      "root\n",
      " |-- Name: string (nullable = true)\n",
      " |-- Age: integer (nullable = true)\n",
      " |-- Department: string (nullable = true)\n",
      " |-- Experience: integer (nullable = true)\n",
      " |-- Salary: integer (nullable = true)\n",
      "\n"
     ]
    }
   ],
   "source": [
    "df_pyspark.printSchema()"
   ]
  },
  {
   "cell_type": "code",
   "execution_count": 8,
   "metadata": {},
   "outputs": [
    {
     "name": "stdout",
     "output_type": "stream",
     "text": [
      "+------+--------+---------------+-----------+\n",
      "|  Name|sum(Age)|sum(Experience)|sum(Salary)|\n",
      "+------+--------+---------------+-----------+\n",
      "| Shawn|      27|              7|      65000|\n",
      "|  Mary|      24|         100000|       null|\n",
      "|  null|     155|          90002|      83000|\n",
      "|   Bob|    null|              4|      12345|\n",
      "|Jayden|      23|              5|      80000|\n",
      "|Joseph|      23|              4|       null|\n",
      "|Jeremy|      40|              8|      69000|\n",
      "+------+--------+---------------+-----------+\n",
      "\n"
     ]
    }
   ],
   "source": [
    "# Group By\n",
    "df_pyspark.groupBy('Name').sum().show()"
   ]
  },
  {
   "cell_type": "code",
   "execution_count": 12,
   "metadata": {},
   "outputs": [
    {
     "name": "stdout",
     "output_type": "stream",
     "text": [
      "+------------+-----+\n",
      "|  Department|count|\n",
      "+------------+-----+\n",
      "|   Insurance|    2|\n",
      "|        null|    3|\n",
      "|     Medical|    2|\n",
      "|Data Science|    2|\n",
      "+------------+-----+\n",
      "\n"
     ]
    }
   ],
   "source": [
    "# Group By Department\n",
    "df_pyspark.groupBy('Department').count().show()"
   ]
  },
  {
   "cell_type": "code",
   "execution_count": 13,
   "metadata": {},
   "outputs": [
    {
     "name": "stdout",
     "output_type": "stream",
     "text": [
      "+-----------+\n",
      "|sum(Salary)|\n",
      "+-----------+\n",
      "|     309345|\n",
      "+-----------+\n",
      "\n"
     ]
    }
   ],
   "source": [
    "df_pyspark.agg({'Salary':'sum'}).show()"
   ]
  }
 ],
 "metadata": {
  "kernelspec": {
   "display_name": "Python 3.9.7 64-bit",
   "language": "python",
   "name": "python3"
  },
  "language_info": {
   "codemirror_mode": {
    "name": "ipython",
    "version": 3
   },
   "file_extension": ".py",
   "mimetype": "text/x-python",
   "name": "python",
   "nbconvert_exporter": "python",
   "pygments_lexer": "ipython3",
   "version": "3.9.7"
  },
  "orig_nbformat": 4,
  "vscode": {
   "interpreter": {
    "hash": "a7a49970c4512c0722528751db23d666149f0368bc6c09b7f6ca5769874537f7"
   }
  }
 },
 "nbformat": 4,
 "nbformat_minor": 2
}
