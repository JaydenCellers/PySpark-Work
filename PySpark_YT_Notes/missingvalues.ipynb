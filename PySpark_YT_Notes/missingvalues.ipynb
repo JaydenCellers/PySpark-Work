{
 "cells": [
  {
   "cell_type": "markdown",
   "metadata": {},
   "source": [
    "# Part 3: Learning How to Account for Missing Data\n",
    "## The following will be covered:\n",
    "* Dropping Columns\n",
    "* Dropping Rows\n",
    "* Various Parameter in Dropping Functionalities\n",
    "* Handling Missing values by Mean, Median, and Mode"
   ]
  },
  {
   "cell_type": "code",
   "execution_count": 1,
   "metadata": {},
   "outputs": [],
   "source": [
    "from pyspark.sql import SparkSession\n",
    "spark=SparkSession.builder.appName('Practice').getOrCreate()"
   ]
  },
  {
   "cell_type": "code",
   "execution_count": 21,
   "metadata": {},
   "outputs": [
    {
     "name": "stdout",
     "output_type": "stream",
     "text": [
      "+------+----+----------+------+\n",
      "|  Name| Age|Experience|Salary|\n",
      "+------+----+----------+------+\n",
      "|Jayden|  23|         5| 80000|\n",
      "| Shawn|  27|         7| 65000|\n",
      "|   Bob|null|         4| 12345|\n",
      "|Jeremy|  40|         8| 69000|\n",
      "|Joseph|  23|         4|  null|\n",
      "|  Mary|  24|      null|100000|\n",
      "|  null|null|      null|  null|\n",
      "|  null|  34|         2| 40000|\n",
      "|  null| 121|      null| 90000|\n",
      "+------+----+----------+------+\n",
      "\n"
     ]
    }
   ],
   "source": [
    "df_pyspark=spark.read.csv('pysparktest.csv', header=True, inferSchema=True)\n",
    "df_pyspark.show()"
   ]
  },
  {
   "cell_type": "code",
   "execution_count": 9,
   "metadata": {},
   "outputs": [
    {
     "name": "stdout",
     "output_type": "stream",
     "text": [
      "+----+----------+------+\n",
      "| Age|Experience|Salary|\n",
      "+----+----------+------+\n",
      "|  23|         5| 80000|\n",
      "|  27|         7| 65000|\n",
      "|null|         4| 12345|\n",
      "|  40|         8| 69000|\n",
      "|  23|         4|  null|\n",
      "|  24|      null|100000|\n",
      "+----+----------+------+\n",
      "\n"
     ]
    }
   ],
   "source": [
    "# Drop the columns\n",
    "df_pyspark.drop('Name').show()"
   ]
  },
  {
   "cell_type": "code",
   "execution_count": 14,
   "metadata": {},
   "outputs": [
    {
     "name": "stdout",
     "output_type": "stream",
     "text": [
      "+------+---+----------+------+\n",
      "|  Name|Age|Experience|Salary|\n",
      "+------+---+----------+------+\n",
      "|Jayden| 23|         5| 80000|\n",
      "| Shawn| 27|         7| 65000|\n",
      "|Jeremy| 40|         8| 69000|\n",
      "+------+---+----------+------+\n",
      "\n"
     ]
    }
   ],
   "source": [
    "# Will drop the row if there is ANY occurence of a null\n",
    "df_pyspark.na.drop().show()"
   ]
  },
  {
   "cell_type": "code",
   "execution_count": 15,
   "metadata": {},
   "outputs": [
    {
     "data": {
      "text/plain": [
       "DataFrame[Name: string, Age: int, Experience: int, Salary: int]"
      ]
     },
     "execution_count": 15,
     "metadata": {},
     "output_type": "execute_result"
    }
   ],
   "source": [
    "# how==any, the default, will drop if there ANY nulls in the row\n",
    "df_pyspark.na.drop(how='any')"
   ]
  },
  {
   "cell_type": "code",
   "execution_count": 16,
   "metadata": {},
   "outputs": [
    {
     "data": {
      "text/plain": [
       "DataFrame[Name: string, Age: int, Experience: int, Salary: int]"
      ]
     },
     "execution_count": 16,
     "metadata": {},
     "output_type": "execute_result"
    }
   ],
   "source": [
    "# how==all, will only drop the row if all values are null \n",
    "df_pyspark.na.drop(how='all')"
   ]
  },
  {
   "cell_type": "code",
   "execution_count": 24,
   "metadata": {},
   "outputs": [
    {
     "name": "stdout",
     "output_type": "stream",
     "text": [
      "+------+----+----------+------+\n",
      "|  Name| Age|Experience|Salary|\n",
      "+------+----+----------+------+\n",
      "|Jayden|  23|         5| 80000|\n",
      "| Shawn|  27|         7| 65000|\n",
      "|   Bob|null|         4| 12345|\n",
      "|Jeremy|  40|         8| 69000|\n",
      "|Joseph|  23|         4|  null|\n",
      "|  Mary|  24|      null|100000|\n",
      "|  null|  34|         2| 40000|\n",
      "|  null| 121|      null| 90000|\n",
      "+------+----+----------+------+\n",
      "\n"
     ]
    }
   ],
   "source": [
    "# Threshold, at least x values are PRESENT\n",
    "df_pyspark.na.drop(how='any', thresh=2).show()"
   ]
  },
  {
   "cell_type": "code",
   "execution_count": 26,
   "metadata": {},
   "outputs": [
    {
     "name": "stdout",
     "output_type": "stream",
     "text": [
      "+------+----+----------+------+\n",
      "|  Name| Age|Experience|Salary|\n",
      "+------+----+----------+------+\n",
      "|Jayden|  23|         5| 80000|\n",
      "| Shawn|  27|         7| 65000|\n",
      "|   Bob|null|         4| 12345|\n",
      "|Jeremy|  40|         8| 69000|\n",
      "|Joseph|  23|         4|  null|\n",
      "|  null|  34|         2| 40000|\n",
      "+------+----+----------+------+\n",
      "\n"
     ]
    }
   ],
   "source": [
    "# Subset, removes rows with nulls in the given column\n",
    "df_pyspark.na.drop(how='any',subset='Experience').show()"
   ]
  },
  {
   "cell_type": "code",
   "execution_count": 50,
   "metadata": {},
   "outputs": [
    {
     "name": "stdout",
     "output_type": "stream",
     "text": [
      "+-------+----+----------+------+\n",
      "|   Name| Age|Experience|Salary|\n",
      "+-------+----+----------+------+\n",
      "| Jayden|  23|         5| 80000|\n",
      "|  Shawn|  27|         7| 65000|\n",
      "|    Bob|null|         4| 12345|\n",
      "| Jeremy|  40|         8| 69000|\n",
      "| Joseph|  23|         4|  null|\n",
      "|   Mary|  24|      null|100000|\n",
      "|Missing|null|      null|  null|\n",
      "|Missing|  34|         2| 40000|\n",
      "|Missing| 121|      null| 90000|\n",
      "+-------+----+----------+------+\n",
      "\n",
      "+------+---+----------+------+\n",
      "|  Name|Age|Experience|Salary|\n",
      "+------+---+----------+------+\n",
      "|Jayden| 23|         5| 80000|\n",
      "| Shawn| 27|         7| 65000|\n",
      "|   Bob|  0|         4| 12345|\n",
      "|Jeremy| 40|         8| 69000|\n",
      "|Joseph| 23|         4|     0|\n",
      "|  Mary| 24|         0|100000|\n",
      "|  null|  0|         0|     0|\n",
      "|  null| 34|         2| 40000|\n",
      "|  null|121|         0| 90000|\n",
      "+------+---+----------+------+\n",
      "\n",
      "+------+----+----------+------+\n",
      "|  Name| Age|Experience|Salary|\n",
      "+------+----+----------+------+\n",
      "|Jayden|  23|         5| 80000|\n",
      "| Shawn|  27|         7| 65000|\n",
      "|   Bob|null|         4| 12345|\n",
      "|Jeremy|  40|         8| 69000|\n",
      "|Joseph|  23|         4|     0|\n",
      "|  Mary|  24|         0|100000|\n",
      "|  null|null|         0|     0|\n",
      "|  null|  34|         2| 40000|\n",
      "|  null| 121|         0| 90000|\n",
      "+------+----+----------+------+\n",
      "\n"
     ]
    }
   ],
   "source": [
    "# Filling missing values, note: matches type\n",
    "# String\n",
    "df_pyspark.na.fill('Missing').show()\n",
    "# Integer\n",
    "df_pyspark.na.fill(0).show()\n",
    "# Can also fill specific columns\n",
    "df_pyspark.na.fill(0,['Experience','Salary']).show()"
   ]
  },
  {
   "cell_type": "code",
   "execution_count": 55,
   "metadata": {},
   "outputs": [],
   "source": [
    "# Use an Imputer function for imputed column values like mean or median\n",
    "from pyspark.ml.feature import Imputer\n",
    "\n",
    "imputer = Imputer(\n",
    "    inputCols=['Age', 'Experience', 'Salary'],\n",
    "    outputCols=[\"{}_imputed\".format(c) for c in ['age', 'Experience', 'Salary']]).setStrategy(\"mean\")\n"
   ]
  },
  {
   "cell_type": "code",
   "execution_count": 56,
   "metadata": {},
   "outputs": [
    {
     "name": "stdout",
     "output_type": "stream",
     "text": [
      "+------+----+----------+------+-----------+------------------+--------------+\n",
      "|  Name| Age|Experience|Salary|age_imputed|Experience_imputed|Salary_imputed|\n",
      "+------+----+----------+------+-----------+------------------+--------------+\n",
      "|Jayden|  23|         5| 80000|         23|                 5|         80000|\n",
      "| Shawn|  27|         7| 65000|         27|                 7|         65000|\n",
      "|   Bob|null|         4| 12345|         41|                 4|         12345|\n",
      "|Jeremy|  40|         8| 69000|         40|                 8|         69000|\n",
      "|Joseph|  23|         4|  null|         23|                 4|         65192|\n",
      "|  Mary|  24|      null|100000|         24|                 5|        100000|\n",
      "|  null|null|      null|  null|         41|                 5|         65192|\n",
      "|  null|  34|         2| 40000|         34|                 2|         40000|\n",
      "|  null| 121|      null| 90000|        121|                 5|         90000|\n",
      "+------+----+----------+------+-----------+------------------+--------------+\n",
      "\n"
     ]
    }
   ],
   "source": [
    "imputer.fit(df_pyspark).transform(df_pyspark).show()"
   ]
  }
 ],
 "metadata": {
  "kernelspec": {
   "display_name": "Python 3.9.7 64-bit",
   "language": "python",
   "name": "python3"
  },
  "language_info": {
   "codemirror_mode": {
    "name": "ipython",
    "version": 3
   },
   "file_extension": ".py",
   "mimetype": "text/x-python",
   "name": "python",
   "nbconvert_exporter": "python",
   "pygments_lexer": "ipython3",
   "version": "3.9.7"
  },
  "orig_nbformat": 4,
  "vscode": {
   "interpreter": {
    "hash": "a7a49970c4512c0722528751db23d666149f0368bc6c09b7f6ca5769874537f7"
   }
  }
 },
 "nbformat": 4,
 "nbformat_minor": 2
}
